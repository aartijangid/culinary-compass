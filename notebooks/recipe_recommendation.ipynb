{
 "cells": [
  {
   "cell_type": "code",
   "execution_count": null,
   "metadata": {},
   "outputs": [],
   "source": [
    "import numpy as np\n",
    "import pandas as pd\n",
    "from sentence_transformers import SentenceTransformer, util\n",
    "import torch\n",
    "import re"
   ]
  },
  {
   "cell_type": "code",
   "execution_count": null,
   "metadata": {},
   "outputs": [],
   "source": [
    "# Load dataset\n",
    "df = pd.read_csv(\"/home/minhas/cgn-dp-24-1/culinary_compass/data/recipes.csv\")"
   ]
  },
  {
   "cell_type": "code",
   "execution_count": null,
   "metadata": {},
   "outputs": [],
   "source": [
    "# non_veg_ingredients = [\"chicken\", \"beef\", \"pork\", \"fish\", \"shrimp\", \"lamb\", \"eggs\",\"egg\"]\n",
    "# df[\"DietaryCategory\"] = df[\"RecipeIngredientParts\"].apply(\n",
    "#     lambda ingredients: \"Non-Vegetarian\" if any(item in str(ingredients).lower() for item in non_veg_ingredients) else \"Vegetarian\"\n",
    "# )\n"
   ]
  },
  {
   "cell_type": "code",
   "execution_count": null,
   "metadata": {},
   "outputs": [],
   "source": [
    "df =df.iloc[0:3000]"
   ]
  },
  {
   "cell_type": "code",
   "execution_count": null,
   "metadata": {},
   "outputs": [],
   "source": [
    "# Define non-vegetarian ingredients\n",
    "non_veg_ingredients = set([\n",
    "    # Meat & Poultry\n",
    "    \"chicken\", \"beef\", \"pork\", \"mutton\", \"lamb\", \"turkey\", \"duck\", \"quail\", \"goat\", \"veal\",\n",
    "    \"rabbit\", \"boar\", \"venison\", \"bison\", \"kangaroo\", \"goose\", \"pheasant\", \"pigeon\", \"elk\",\n",
    "    \n",
    "    # Processed Meat Products\n",
    "    \"bacon\", \"ham\", \"sausage\", \"pepperoni\", \"salami\", \"chorizo\", \"pastrami\", \"prosciutto\",\n",
    "    \"mortadella\", \"hot dog\", \"jerky\", \"liverwurst\", \"blood sausage\", \"scrapple\",\n",
    "    \n",
    "    # Seafood\n",
    "    \"fish\", \"tuna\", \"salmon\", \"trout\", \"cod\", \"haddock\", \"mackerel\", \"sardine\", \"anchovy\",\n",
    "    \"herring\", \"catfish\", \"bass\", \"snapper\", \"grouper\", \"halibut\", \"swordfish\", \"mahi mahi\",\n",
    "    \"flounder\", \"eel\", \"shark\", \"sturgeon\", \"tilapia\", \"tuna steaks\", \"swordfish steaks\",\n",
    "    \n",
    "    # Shellfish\n",
    "    \"shrimp\", \"prawns\", \"crab\", \"lobster\", \"crawfish\", \"squid\", \"octopus\", \"scallops\",\n",
    "    \"mussels\", \"clams\", \"oysters\", \"abalone\", \"conch\",\n",
    "    \n",
    "    # Animal-Based Ingredients\n",
    "    \"eggs\", \"gelatin\", \"lard\", \"suet\", \"tallow\", \"bone broth\", \"fish sauce\", \"oyster sauce\",\n",
    "    \"shrimp paste\", \"anchovy paste\", \"worcestershire sauce\", \"caviar\", \"roe\", \"squid ink\",\n",
    "    \n",
    "    # Organ Meats (Offal)\n",
    "    \"liver\", \"kidney\", \"heart\", \"brain\", \"tripe\", \"sweetbreads\", \"tongue\", \"gizzards\"\n",
    "])\n",
    "\n",
    "# Function to classify recipes correctly\n",
    "def classify_recipe(ingredients):\n",
    "    # Step 1: Clean string formatting issues\n",
    "    ingredients = str(ingredients).lower().replace('\"', '').replace(\"c(\", \"\").replace(\")\", \"\")\n",
    "\n",
    "    # Step 2: Convert to a list of ingredients\n",
    "    ingredient_list = [ing.strip() for ing in ingredients.split(\",\")]\n",
    "\n",
    "    # Step 3: Check for partial matches\n",
    "    if any(any(non_veg in ingredient for non_veg in non_veg_ingredients) for ingredient in ingredient_list):\n",
    "        return \"Non-Vegetarian\"\n",
    "    return \"Vegetarian\"\n",
    "\n",
    "\n",
    "# Apply classification\n",
    "df[\"DietaryCategory\"] = df[\"RecipeIngredientParts\"].apply(classify_recipe)"
   ]
  },
  {
   "cell_type": "code",
   "execution_count": null,
   "metadata": {},
   "outputs": [],
   "source": [
    "df['DietaryCategory'].unique()"
   ]
  },
  {
   "cell_type": "code",
   "execution_count": null,
   "metadata": {},
   "outputs": [],
   "source": [
    "pd.set_option('display.max_columns', None)\n",
    "# pd.set_option('display.max_row', None)\n",
    "pd.set_option('display.max_colwidth', None)"
   ]
  },
  {
   "cell_type": "code",
   "execution_count": null,
   "metadata": {},
   "outputs": [],
   "source": [
    "# df[[\"RecipeIngredientParts\", \"DietaryCategory\"]]"
   ]
  },
  {
   "cell_type": "code",
   "execution_count": null,
   "metadata": {},
   "outputs": [],
   "source": [
    "# Initialize Sentence Transformer Model\n",
    "\n",
    "model = SentenceTransformer(\"all-MiniLM-L6-v2\")"
   ]
  },
  {
   "cell_type": "code",
   "execution_count": null,
   "metadata": {},
   "outputs": [],
   "source": [
    "# Step 3: Compute embeddings for ingredients\n",
    "df[\"IngredientEmbedding\"] = df[\"RecipeIngredientParts\"].apply(lambda x: model.encode(str(x), convert_to_tensor=True).tolist())"
   ]
  },
  {
   "cell_type": "code",
   "execution_count": null,
   "metadata": {},
   "outputs": [],
   "source": [
    "\n",
    "# Step 4: Save embeddings to a new file\n",
    "df.to_csv(\"/home/minhas/cgn-dp-24-1/culinary_compass/data/recipes_with_embeddings.csv\", index=False)"
   ]
  },
  {
   "cell_type": "code",
   "execution_count": null,
   "metadata": {},
   "outputs": [],
   "source": [
    "# Step 5: Load dataset with precomputed embeddings\n",
    "df = pd.read_csv(\"/home/minhas/cgn-dp-24-1/culinary_compass/data/recipes_with_embeddings.csv\")"
   ]
  },
  {
   "cell_type": "code",
   "execution_count": null,
   "metadata": {},
   "outputs": [],
   "source": [
    "df[\"IngredientEmbedding\"] = df[\"IngredientEmbedding\"].apply(lambda x: torch.tensor(eval(x)))"
   ]
  },
  {
   "cell_type": "code",
   "execution_count": null,
   "metadata": {},
   "outputs": [],
   "source": [
    "df.head()"
   ]
  },
  {
   "cell_type": "code",
   "execution_count": null,
   "metadata": {},
   "outputs": [],
   "source": [
    "def recommend_recipes(nutrients, ingredients, diet_preference):\n",
    "    \"\"\"Recommend recipes based on user nutrients, ingredients, and dietary preference.\"\"\"\n",
    "\n",
    "    # Filter dataset based on dietary preference\n",
    "    if diet_preference != \"Any\":\n",
    "        filtered_df = df[df[\"DietaryCategory\"] == diet_preference].copy()\n",
    "    else:\n",
    "        filtered_df = df.copy()\n",
    "\n",
    "    # Encode input ingredients\n",
    "    input_ingredient_embedding = model.encode(\" \".join(ingredients), convert_to_tensor=True)\n",
    "\n",
    "    # Compute cosine similarity\n",
    "    ingredient_similarities = util.pytorch_cos_sim(\n",
    "        torch.stack(filtered_df[\"IngredientEmbedding\"].tolist()), input_ingredient_embedding\n",
    "    ).squeeze().numpy()\n",
    "\n",
    "    # Normalize nutrient similarity\n",
    "    nutrient_columns = [\"Calories\", \"FatContent\", \"SaturatedFatContent\", \"CholesterolContent\", \n",
    "                        \"SodiumContent\", \"CarbohydrateContent\", \"FiberContent\", \"SugarContent\", \"ProteinContent\"]\n",
    "    \n",
    "    df_nutrients = filtered_df[nutrient_columns].fillna(0)\n",
    "    nutrient_array = df_nutrients.to_numpy()\n",
    "\n",
    "    # Compute Euclidean distance\n",
    "    input_nutrient_array = np.array([nutrients[col] for col in nutrient_columns]).reshape(1, -1)\n",
    "    nutrient_distances = np.linalg.norm(nutrient_array - input_nutrient_array, axis=1)\n",
    "    nutrient_similarities = 1 / (1 + nutrient_distances)\n",
    "\n",
    "    # Compute final scores\n",
    "    final_scores = (0.3 * nutrient_similarities) + (0.7 * ingredient_similarities)\n",
    "\n",
    "    # Rank recipes and return top results\n",
    "    filtered_df[\"SimilarityScore\"] = final_scores\n",
    "    top_recipes = filtered_df.sort_values(by=\"SimilarityScore\", ascending=False).head(5)\n",
    "\n",
    "    return top_recipes[[\"Name\", \"Images\", \"RecipeInstructions\"]].to_dict(orient=\"records\")\n"
   ]
  },
  {
   "cell_type": "code",
   "execution_count": null,
   "metadata": {},
   "outputs": [],
   "source": [
    "# Step 7: User input for testing\n",
    "user_nutrients = {\n",
    "    \"Calories\": 500, \"FatContent\": 20, \"SaturatedFatContent\": 5,\n",
    "    \"CholesterolContent\": 10, \"SodiumContent\": 500, \"CarbohydrateContent\": 50,\n",
    "    \"FiberContent\": 10, \"SugarContent\": 10, \"ProteinContent\": 30\n",
    "}\n",
    "\n",
    "user_ingredients = [ \"Egg, whole, raw, frozen, salted, pasteurized\", \"Cheese, American, restaurant\",\n",
    "                    \"Cheese, cotija, solid\", \"Crustaceans, crab, alaska king, raw\",\n",
    "                      \"Mollusks, clam, mixed species, raw\",  \"Seaweed, wakame, raw\",\n",
    "                    \"Cream cheese, full fat, block\"]\n",
    "# Define the diet preference\n",
    "diet_preference = \"Any\"# You can set this to \"Vegetarian\", \"Non-Vegetarian\", or \"Any\" based on user input\n",
    "\n",
    "# Step 8: Get recommendations\n",
    "recommendations = recommend_recipes(user_nutrients, user_ingredients, diet_preference)\n",
    "\n",
    "# Step 9: Display results\n",
    "for recipe in recommendations:\n",
    "    print(f\"Name: {recipe['Name']}\\nImage: {recipe['Images']}\\nInstructions: {recipe['RecipeInstructions']}\\n{'-'*50}\")"
   ]
  },
  {
   "cell_type": "code",
   "execution_count": null,
   "metadata": {},
   "outputs": [],
   "source": [
    "df[df['Name']==\"Chicken with Lemongrass\"]"
   ]
  },
  {
   "cell_type": "markdown",
   "metadata": {},
   "source": [
    "# End"
   ]
  },
  {
   "cell_type": "code",
   "execution_count": null,
   "metadata": {},
   "outputs": [],
   "source": []
  },
  {
   "cell_type": "code",
   "execution_count": null,
   "metadata": {},
   "outputs": [],
   "source": [
    "diet_preference = st.sidebar.selectbox(\"Dietary Preference:\", [\"Any\", \"Vegetarian\", \"Non-Vegetarian\"])\n",
    "\n",
    "\n",
    "\n",
    "non_veg_ingredients = [\"chicken\", \"beef\", \"pork\", \"fish\", \"shrimp\", \"lamb\", \"eggs\", \"egg\"]\n",
    "\n",
    "df[\"DietaryCategory\"] = df[\"RecipeIngredientParts\"].apply(\n",
    "    lambda ingredients: \"Non-Vegetarian\" if any(re.search(rf\"\\b{item}\\b\", str(ingredients).lower()) for item in non_veg_ingredients) else \"Vegetarian\"\n",
    ")\n",
    "\n",
    "# Display the updated DataFrame\n",
    "print(df)\n",
    "\n",
    "\n",
    "def recommend_recipes(nutrients, ingredients, diet_preference):\n",
    "    \"\"\"Recommend recipes based on user nutrients, ingredients, and dietary preference.\"\"\"\n",
    "\n",
    "    # Filter dataset based on dietary preference\n",
    "    if diet_preference != \"Any\":\n",
    "        filtered_df = df[df[\"DietaryCategory\"] == diet_preference].copy()\n",
    "    else:\n",
    "        filtered_df = df.copy()\n",
    "\n",
    "    # Encode input ingredients\n",
    "    input_ingredient_embedding = model.encode(\" \".join(ingredients), convert_to_tensor=True)\n",
    "\n",
    "    # Compute cosine similarity\n",
    "    ingredient_similarities = util.pytorch_cos_sim(\n",
    "        torch.stack(filtered_df[\"IngredientEmbedding\"].tolist()), input_ingredient_embedding\n",
    "    ).squeeze().numpy()\n",
    "\n",
    "    # Normalize nutrient similarity\n",
    "    nutrient_columns = [\"Calories\", \"FatContent\", \"SaturatedFatContent\", \"CholesterolContent\", \n",
    "                        \"SodiumContent\", \"CarbohydrateContent\", \"FiberContent\", \"SugarContent\", \"ProteinContent\"]\n",
    "    \n",
    "    df_nutrients = filtered_df[nutrient_columns].fillna(0)\n",
    "    nutrient_array = df_nutrients.to_numpy()\n",
    "\n",
    "    # Compute Euclidean distance\n",
    "    input_nutrient_array = np.array([nutrients[col] for col in nutrient_columns]).reshape(1, -1)\n",
    "    nutrient_distances = np.linalg.norm(nutrient_array - input_nutrient_array, axis=1)\n",
    "    nutrient_similarities = 1 / (1 + nutrient_distances)\n",
    "\n",
    "    # Compute final scores\n",
    "    final_scores = (0.6 * nutrient_similarities) + (0.4 * ingredient_similarities)\n",
    "\n",
    "    # Rank recipes and return top results\n",
    "    filtered_df[\"SimilarityScore\"] = final_scores\n",
    "    top_recipes = filtered_df.sort_values(by=\"SimilarityScore\", ascending=False).head(5)\n",
    "\n",
    "    return top_recipes[[\"Name\", \"Images\", \"RecipeInstructions\"]].to_dict(orient=\"records\")\n",
    "\n",
    "\n",
    "recommendations = recommend_recipes(user_nutrients, user_ingredients, diet_preference)\n",
    "\n"
   ]
  },
  {
   "cell_type": "code",
   "execution_count": null,
   "metadata": {},
   "outputs": [],
   "source": [
    "# Define non-vegetarian keywords\n",
    "non_veg_keywords = set([\n",
    "    # Meat & Poultry\n",
    "    \"chicken\", \"beef\", \"pork\", \"mutton\", \"lamb\", \"turkey\", \"duck\", \"quail\", \"goat\", \"veal\",\n",
    "    \"rabbit\", \"boar\", \"venison\", \"bison\", \"kangaroo\", \"goose\", \"pheasant\", \"pigeon\", \"elk\",\n",
    "\n",
    "    # Processed Meat Products\n",
    "    \"bacon\", \"ham\", \"sausage\", \"pepperoni\", \"salami\", \"chorizo\", \"pastrami\", \"prosciutto\",\n",
    "    \"mortadella\", \"hot dog\", \"jerky\", \"liverwurst\", \"blood sausage\", \"scrapple\",\n",
    "\n",
    "    # Seafood\n",
    "    \"fish\", \"tuna\", \"salmon\", \"trout\", \"cod\", \"haddock\", \"mackerel\", \"sardine\", \"anchovy\",\n",
    "    \"herring\", \"catfish\", \"bass\", \"snapper\", \"grouper\", \"halibut\", \"swordfish\", \"mahi mahi\",\n",
    "    \"flounder\", \"eel\", \"shark\", \"sturgeon\", \"tilapia\", \"tuna steaks\", \"swordfish steaks\",\n",
    "\n",
    "    # Shellfish\n",
    "    \"shrimp\", \"prawns\", \"crab\", \"lobster\", \"crawfish\", \"squid\", \"octopus\", \"scallops\",\n",
    "    \"mussels\", \"clams\", \"oysters\", \"abalone\", \"conch\",\n",
    "\n",
    "    # Animal-Based Ingredients\n",
    "    \"eggs\", \"gelatin\", \"lard\", \"suet\", \"tallow\", \"bone broth\", \"fish sauce\", \"oyster sauce\",\n",
    "    \"shrimp paste\", \"anchovy paste\", \"worcestershire sauce\", \"caviar\", \"roe\", \"squid ink\",\n",
    "\n",
    "    # Organ Meats (Offal)\n",
    "    \"liver\", \"kidney\", \"heart\", \"brain\", \"tripe\", \"sweetbreads\", \"tongue\", \"gizzards\"\n",
    "])\n",
    "\n",
    "# Function to classify recipes\n",
    "def classify_recipe(row):\n",
    "    \"\"\"\n",
    "    Classifies a recipe as 'Vegetarian' or 'Non-Vegetarian' based on:\n",
    "    - `RecipeIngredientParts`\n",
    "    - `RecipeCategory`\n",
    "    \"\"\"\n",
    "    # Extract ingredient list\n",
    "    ingredients = str(row[\"RecipeIngredientParts\"]).lower().replace('\"', '').replace(\"c(\", \"\").replace(\")\", \"\")\n",
    "    ingredient_list = [ing.strip() for ing in ingredients.split(\",\")]\n",
    "\n",
    "    # Extract category list\n",
    "    categories = str(row[\"RecipeCategory\"]).lower().replace('\"', '').replace(\"c(\", \"\").replace(\")\", \"\")\n",
    "    category_list = [cat.strip() for cat in categories.split(\",\")]\n",
    "\n",
    "    # Check for non-veg keywords in ingredients or category\n",
    "    if any(any(non_veg in item for non_veg in non_veg_keywords) for item in ingredient_list + category_list):\n",
    "        return \"Non-Veg\"\n",
    "\n",
    "    return \"Veg\"\n",
    "\n",
    "# Apply classification\n",
    "df[\"DietaryCategory\"] = df.apply(classify_recipe, axis=1)"
   ]
  },
  {
   "cell_type": "code",
   "execution_count": null,
   "metadata": {},
   "outputs": [],
   "source": []
  }
 ],
 "metadata": {
  "kernelspec": {
   "display_name": ".venv",
   "language": "python",
   "name": "python3"
  },
  "language_info": {
   "codemirror_mode": {
    "name": "ipython",
    "version": 3
   },
   "file_extension": ".py",
   "mimetype": "text/x-python",
   "name": "python",
   "nbconvert_exporter": "python",
   "pygments_lexer": "ipython3",
   "version": "3.11.3"
  }
 },
 "nbformat": 4,
 "nbformat_minor": 2
}
