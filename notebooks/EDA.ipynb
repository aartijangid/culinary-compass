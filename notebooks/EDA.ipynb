{
 "cells": [
  {
   "cell_type": "markdown",
   "metadata": {},
   "source": []
  },
  {
   "cell_type": "code",
   "execution_count": null,
   "metadata": {},
   "outputs": [],
   "source": [
    "import pandas as pd\n",
    "import seaborn as sn\n",
    "import matplotlib.pyplot as plt\n",
    "from sklearn.preprocessing import MinMaxScaler\n",
    "from sklearn.neighbors import NearestNeighbors\n",
    "import numpy as np\n",
    "import re"
   ]
  },
  {
   "cell_type": "code",
   "execution_count": null,
   "metadata": {},
   "outputs": [],
   "source": [
    "df = pd.read_excel(\"../data/food_data.xlsx\")"
   ]
  },
  {
   "cell_type": "code",
   "execution_count": null,
   "metadata": {},
   "outputs": [],
   "source": [
    "df.head()"
   ]
  },
  {
   "cell_type": "code",
   "execution_count": null,
   "metadata": {},
   "outputs": [],
   "source": [
    "df.main_category.unique()"
   ]
  },
  {
   "cell_type": "code",
   "execution_count": null,
   "metadata": {},
   "outputs": [],
   "source": [
    "df.rename(columns={'vitamin_K_ UG': 'vitamin_K_UG', 'vitamin D _UG' : 'vitamin_D_UG', 'vitamin B_12_UG' : 'vitamin_B_12_UG'}, inplace=True)"
   ]
  },
  {
   "cell_type": "code",
   "execution_count": null,
   "metadata": {},
   "outputs": [],
   "source": [
    "df.shape"
   ]
  },
  {
   "cell_type": "code",
   "execution_count": null,
   "metadata": {},
   "outputs": [],
   "source": [
    "df.info()"
   ]
  },
  {
   "cell_type": "code",
   "execution_count": null,
   "metadata": {},
   "outputs": [],
   "source": [
    "df.isnull().sum()"
   ]
  },
  {
   "cell_type": "code",
   "execution_count": null,
   "metadata": {},
   "outputs": [],
   "source": [
    "df.columns"
   ]
  },
  {
   "cell_type": "markdown",
   "metadata": {},
   "source": [
    "### Preprocessing"
   ]
  },
  {
   "cell_type": "code",
   "execution_count": null,
   "metadata": {},
   "outputs": [],
   "source": [
    "# Cleaning\n",
    "df['description'] = df['description'].apply(lambda x: x[:-5] if x.endswith(\", raw\") else x)\n",
    "df['main_category'] = df['main_category'].apply(lambda x: \"Veg\" if x == \"Non Alcoholic\" else x)\n",
    "df['description'] = df['description'].apply(lambda x: re.sub(r\"^Game meat,\\s*\", \"\", x).capitalize())"
   ]
  },
  {
   "cell_type": "code",
   "execution_count": null,
   "metadata": {},
   "outputs": [],
   "source": [
    "df.fillna(0, inplace = True)"
   ]
  },
  {
   "cell_type": "code",
   "execution_count": null,
   "metadata": {},
   "outputs": [],
   "source": [
    "\n",
    "in_mg = ['calcium_MG', 'potassium_MG', 'zinc_MG', 'vitamin_C_MG', 'iron_MG', 'magnesium_MG', 'phosphorus_MG',\n",
    "          'sodium_MG', 'copper_MG', 'vitamin_E_MG', 'thiamin_MG', 'riboflavin_MG', 'cholesterol_MG', 'Niacin_MG', \n",
    "          'vitamin_B_6_MG', 'choline_total_MG']\n",
    "\n",
    "in_grams = ['carbohydrate_G', 'water_G', 'total_lipid_fat_G', 'protein_G', 'fatty_acids_total_saturated_G', \n",
    "            'fiber_total_dietary_G','total_sugars_G', 'fatty_acids_total_monounsaturated_G', \n",
    "            'fatty_acids_total_polyunsaturated_G' ]\n",
    "\n",
    "in_ug = ['vitamin_A_UG', 'vitamin_K_UG', 'folate_total_UG', 'vitamin_B_12_UG', 'selenium_UG', 'vitamin_D_UG' ]\n",
    "\n",
    "others = ['description', 'sub_category', 'main_category', 'category', 'energy (kJ)']\n",
    "\n",
    "# Convert grams to milligrams (g → mg)\n",
    "df[in_grams] = df[in_grams] * 1000\n",
    "\n",
    "# Convert micrograms to milligrams (µg → mg)\n",
    "df[in_ug] = df[in_ug] / 1000\n",
    "\n",
    "\n"
   ]
  },
  {
   "cell_type": "code",
   "execution_count": null,
   "metadata": {},
   "outputs": [],
   "source": [
    "\n",
    "df.columns = df.columns.str.replace(r'_(UG|MG|G)$', '', regex=True)"
   ]
  },
  {
   "cell_type": "code",
   "execution_count": null,
   "metadata": {},
   "outputs": [],
   "source": [
    "df.columns"
   ]
  },
  {
   "cell_type": "code",
   "execution_count": null,
   "metadata": {},
   "outputs": [],
   "source": [
    "df['iron'].max()"
   ]
  },
  {
   "cell_type": "code",
   "execution_count": null,
   "metadata": {},
   "outputs": [],
   "source": [
    "# Select relevant columns (nutrients for modeling)\n",
    "nutrients = ['calcium', 'potassium', 'zinc', 'vitamin_C', 'iron', 'magnesium', 'phosphorus','sodium', 'copper',\n",
    "              'vitamin_E', 'thiamin', 'riboflavin', 'cholesterol', 'Niacin', 'vitamin_B_6', 'choline_total',\n",
    "              'vitamin_A', 'vitamin_K', 'folate_total', 'vitamin_B_12', 'selenium', 'vitamin_D' ]\n",
    "\n",
    "# Normalize the nutrient values for ML\n",
    "scaler = MinMaxScaler()\n",
    "df[nutrients] = scaler.fit_transform(df[nutrients])\n",
    "\n",
    "# Save the processed data\n",
    "df.to_csv(\"processed_food_data.csv\", index=False)\n",
    "print(\"✅ Data preprocessing complete! File saved as 'processed_food_data.csv'.\")\n"
   ]
  },
  {
   "cell_type": "markdown",
   "metadata": {},
   "source": [
    "# Filtering data based on one deficiency."
   ]
  },
  {
   "cell_type": "code",
   "execution_count": null,
   "metadata": {},
   "outputs": [],
   "source": [
    "# Load processed dataset\n",
    "df = pd.read_csv(\"processed_food_data.csv\")\n",
    "\n",
    "# Define features (nutrient values)\n",
    "nutrients = ['calcium', 'potassium', 'zinc', 'vitamin_C', 'iron', 'magnesium', 'phosphorus','sodium', 'copper',\n",
    "              'vitamin_E', 'thiamin', 'riboflavin', 'cholesterol', 'Niacin', 'vitamin_B_6', 'choline_total',\n",
    "              'vitamin_A', 'vitamin_K', 'folate_total', 'vitamin_B_12', 'selenium', 'vitamin_D' ]\n",
    "X = df[nutrients]\n",
    "\n",
    "# Train a KNN model\n",
    "knn = NearestNeighbors(n_neighbors=10, metric='euclidean')\n",
    "knn.fit(X)\n",
    "\n",
    "def recommend_food(deficiency):\n",
    "    \"\"\"Recommend food items based on a user's nutrient deficiency.\"\"\"\n",
    "    if deficiency not in nutrients:\n",
    "        return \"Invalid deficiency. Choose from: \" + \", \".join(nutrients)\n",
    "\n",
    "    # Create a query vector: 1 for the deficient nutrient, 0 for others\n",
    "    deficiency_idx = nutrients.index(deficiency)\n",
    "    sample = np.zeros(len(nutrients))\n",
    "    sample[deficiency_idx] = 1  # Targeting the deficient nutrient\n",
    "\n",
    "    # Find similar foods\n",
    "    distances, indices = knn.kneighbors([sample])\n",
    "    recommendations = df.iloc[indices[0]][['description', deficiency]]\n",
    "\n",
    "    return recommendations.to_dict(orient=\"records\")\n",
    "\n",
    "# Test the model\n",
    "print(\"✅ Model trained. Testing recommendations...\\n\")\n",
    "\n",
    "print(\"🥗 Vitamin C Deficiency:\")\n",
    "print(recommend_food(\"vitamin_C\"))\n",
    "\n",
    "print(\"\\n🥩 Iron Deficiency:\")\n",
    "print(recommend_food(\"iron\"))\n"
   ]
  },
  {
   "cell_type": "markdown",
   "metadata": {},
   "source": [
    "# Filtering data based on multiple deficiencies"
   ]
  },
  {
   "cell_type": "code",
   "execution_count": null,
   "metadata": {},
   "outputs": [],
   "source": [
    "\n",
    "# Load processed dataset\n",
    "df = pd.read_csv(\"processed_food_data.csv\")\n",
    "\n",
    "# Define features (nutrient values)\n",
    "nutrients = ['calcium', 'potassium', 'zinc', 'vitamin_C', 'iron', 'magnesium', 'phosphorus', 'sodium', 'copper',\n",
    "             'vitamin_E', 'thiamin', 'riboflavin', 'cholesterol', 'Niacin', 'vitamin_B_6', 'choline_total',\n",
    "             'vitamin_A', 'vitamin_K', 'folate_total', 'vitamin_B_12', 'selenium', 'vitamin_D']\n",
    "X = df[nutrients]\n",
    "\n",
    "# Train a KNN model\n",
    "knn = NearestNeighbors(n_neighbors=40, metric='euclidean')\n",
    "knn.fit(X)\n",
    "\n",
    "def recommend_food(deficiencies):\n",
    "    \"\"\"Recommend food items based on a user's nutrient deficiencies.\"\"\"\n",
    "    if not isinstance(deficiencies, list):\n",
    "        return \"Invalid input. Provide a list of deficiencies.\"\n",
    "    \n",
    "    invalid_nutrients = [d for d in deficiencies if d not in nutrients]\n",
    "    if invalid_nutrients:\n",
    "        return f\"Invalid deficiencies: {', '.join(invalid_nutrients)}. Choose from: {', '.join(nutrients)}\"\n",
    "\n",
    "    # Create a query vector: 1 for deficient nutrients, 0 for others\n",
    "    sample = np.zeros(len(nutrients))\n",
    "    for deficiency in deficiencies:\n",
    "        sample[nutrients.index(deficiency)] = 1  # Targeting deficient nutrients\n",
    "\n",
    "    # Find similar foods\n",
    "    distances, indices = knn.kneighbors([sample])\n",
    "    recommendations = df.iloc[indices[0]][['description'] + deficiencies]\n",
    "\n",
    "    return \"\\n\".join([str(item) for item in recommendations.to_dict(orient=\"records\")])\n",
    "\n",
    "# Test the model\n",
    "print(\"✅ Model trained. Testing recommendations...\\n\")\n",
    "\n",
    "print(\"🥗 Vitamin C and Iron Deficiency:\")\n",
    "print(recommend_food([\"vitamin_C\", \"iron\"]))\n",
    "\n",
    "print(\"\\n🥩 Calcium and Magnesium Deficiency:\")\n",
    "print(recommend_food([\"calcium\", \"magnesium\"]))\n"
   ]
  },
  {
   "cell_type": "markdown",
   "metadata": {},
   "source": [
    "###  Filtering food based on category veg/Non - veg"
   ]
  },
  {
   "cell_type": "code",
   "execution_count": null,
   "metadata": {},
   "outputs": [],
   "source": [
    "from sklearn.neighbors import NearestNeighbors\n",
    "import numpy as np\n",
    "import pandas as pd\n",
    "\n",
    "# Assuming df is already loaded with the dataset\n",
    "df = pd.read_csv(\"processed_food_data.csv\")\n",
    "\n",
    "# Define the nutrients list within the function\n",
    "def recommend_food(deficiencies, category=None):\n",
    "    \"\"\"Recommend food items based on a user's nutrient deficiencies, with optional category filtering.\"\"\"\n",
    "    \n",
    "    # Define nutrients inside the function\n",
    "    nutrients = ['calcium', 'potassium', 'zinc', 'vitamin_C', 'iron', 'magnesium', 'phosphorus', 'sodium', 'copper',\n",
    "                 'vitamin_E', 'thiamin', 'riboflavin', 'cholesterol', 'Niacin', 'vitamin_B_6', 'choline_total',\n",
    "                 'vitamin_A', 'vitamin_K', 'folate_total', 'vitamin_B_12', 'selenium', 'vitamin_D']\n",
    "    \n",
    "    if not isinstance(deficiencies, list):\n",
    "        return \"Invalid input. Provide a list of deficiencies.\"\n",
    "    \n",
    "    # Check for invalid deficiencies\n",
    "    invalid_nutrients = [d for d in deficiencies if d not in nutrients]\n",
    "    if invalid_nutrients:\n",
    "        return f\"Invalid deficiencies: {', '.join(invalid_nutrients)}. Choose from: {', '.join(nutrients)}\"\n",
    "\n",
    "    # Filter by category (if specified)\n",
    "    if category == 'Veg':\n",
    "        # Filter the dataframe based on the main category (e.g., 'Veg')\n",
    "        df_filtered = df[df['main_category'] == category]\n",
    "        if df_filtered.empty:\n",
    "            return f\"No data found for the category: {category}.\"\n",
    "    else:\n",
    "        df_filtered = df  # If no category is selected, use the whole dataframe\n",
    "\n",
    "    # Create a query vector: 1 for deficient nutrients, 0 for others\n",
    "    sample = np.zeros(len(nutrients))\n",
    "    for deficiency in deficiencies:\n",
    "        sample[nutrients.index(deficiency)] = 1  # Targeting deficient nutrients\n",
    "\n",
    "    # Train the KNN model on the filtered data (to ensure it's category-specific)\n",
    "    X_filtered = df_filtered[nutrients]\n",
    "    knn = NearestNeighbors(n_neighbors=40, metric='euclidean')\n",
    "    knn.fit(X_filtered)\n",
    "\n",
    "    # Find similar foods\n",
    "    distances, indices = knn.kneighbors([sample])\n",
    "    recommendations = df_filtered.iloc[indices[0]][['description'] + deficiencies]\n",
    "\n",
    "    # Format recommendations as a list of strings\n",
    "    recommendation_list = [f\"\\nRecommendations for {' and '.join(deficiencies)} Deficiency:\"]\n",
    "    for i, row in recommendations.iterrows():\n",
    "        recommendation_list.append(f\"Food: {row['description']}, {', '.join([f'{d.capitalize()}: {row[d]} mg' for d in deficiencies])}\")\n",
    "\n",
    "    return \"\\n\".join(recommendation_list)\n",
    "\n",
    "# Test the model with multiple deficiencies and category filtering\n",
    "print(\"✅ Model trained. Testing recommendations...\\n\")\n",
    "\n",
    "print(\"🥗 Vitamin C and Iron Deficiency (Veg Only):\")\n",
    "print(recommend_food([\"vitamin_C\", \"iron\"], category=\"Non-veg\"))\n",
    "\n",
    "print(\"\\n🥩 Calcium and Magnesium Deficiency (Veg Only):\")\n",
    "print(recommend_food([\"calcium\", \"magnesium\"], category=\"Non-veg\"))\n"
   ]
  },
  {
   "cell_type": "code",
   "execution_count": null,
   "metadata": {},
   "outputs": [],
   "source": [
    "from sklearn.cluster import KMeans\n",
    "from sklearn.metrics import silhouette_score\n",
    "\n",
    "def evaluate_knn():\n",
    "    kmeans = KMeans(n_clusters=2, random_state=42)  # Adjust clusters based on dataset\n",
    "    cluster_labels = kmeans.fit_predict(X)  # Assign each food item to a cluster\n",
    "\n",
    "    score = silhouette_score(X, cluster_labels)\n",
    "    print(f\"Silhouette Score for KNN-based Food Clustering: {score:.2f}\")\n",
    "\n",
    "evaluate_knn()\n"
   ]
  },
  {
   "cell_type": "code",
   "execution_count": null,
   "metadata": {},
   "outputs": [],
   "source": [
    "import matplotlib.pyplot as plt\n",
    "from sklearn.cluster import KMeans\n",
    "from sklearn.metrics import silhouette_score\n",
    "\n",
    "scores = []\n",
    "cluster_range = range(2, 15)  # Test cluster sizes from 2 to 15\n",
    "\n",
    "for k in cluster_range:\n",
    "    kmeans = KMeans(n_clusters=k, random_state=42)\n",
    "    cluster_labels = kmeans.fit_predict(X)\n",
    "    score = silhouette_score(X, cluster_labels)\n",
    "    scores.append(score)\n",
    "\n",
    "# Plot silhouette scores\n",
    "plt.plot(cluster_range, scores, marker='o', linestyle='-')\n",
    "plt.xlabel(\"Number of Clusters (K)\")\n",
    "plt.ylabel(\"Silhouette Score\")\n",
    "plt.title(\"Optimal Number of Clusters\")\n",
    "plt.show()"
   ]
  },
  {
   "cell_type": "code",
   "execution_count": null,
   "metadata": {},
   "outputs": [],
   "source": [
    "from sklearn.decomposition import PCA\n",
    "import matplotlib.pyplot as plt\n",
    "\n",
    "# Reduce to 2D for visualization\n",
    "pca = PCA(n_components=2)\n",
    "X_pca = pca.fit_transform(X)\n",
    "\n",
    "# Plot clusters\n",
    "plt.figure(figsize=(8, 6))\n",
    "plt.scatter(X_pca[:, 0], X_pca[:, 1], c=cluster_labels, cmap='viridis', marker='o')\n",
    "plt.title(f\"Food Clusters with K={2}\")\n",
    "plt.xlabel('Principal Component 1')\n",
    "plt.ylabel('Principal Component 2')\n",
    "plt.colorbar(label='Cluster Label')\n",
    "plt.show()\n"
   ]
  },
  {
   "cell_type": "markdown",
   "metadata": {},
   "source": [
    "KNN Neighborhood Visualization"
   ]
  },
  {
   "cell_type": "code",
   "execution_count": null,
   "metadata": {},
   "outputs": [],
   "source": [
    "import matplotlib.pyplot as plt\n",
    "from sklearn.neighbors import NearestNeighbors\n",
    "import pandas as pd\n",
    "import numpy as np\n",
    "\n",
    "# Load dataset\n",
    "df = pd.read_csv(\"processed_food_data.csv\")\n",
    "\n",
    "def plot_knn_recommendation(deficiencies, category=None, k=5):\n",
    "    \"\"\"Plot the KNN recommendation process based on deficiencies.\"\"\"\n",
    "    \n",
    "    # Define nutrients\n",
    "    nutrients = ['calcium', 'potassium', 'zinc', 'vitamin_C', 'iron', 'magnesium', 'phosphorus', 'sodium', 'copper',\n",
    "                 'vitamin_E', 'thiamin', 'riboflavin', 'cholesterol', 'Niacin', 'vitamin_B_6', 'choline_total',\n",
    "                 'vitamin_A', 'vitamin_K', 'folate_total', 'vitamin_B_12', 'selenium', 'vitamin_D']\n",
    "    \n",
    "    # Validate deficiencies\n",
    "    for deficiency in deficiencies:\n",
    "        if deficiency not in nutrients:\n",
    "            raise ValueError(f\"Invalid deficiency: {deficiency}. Choose from: {', '.join(nutrients)}\")\n",
    "\n",
    "    # Filter category if needed\n",
    "    if category:\n",
    "        df_filtered = df[df['main_category'] == category]\n",
    "    else:\n",
    "        df_filtered = df  # Use full dataset if no category is specified\n",
    "\n",
    "    # Create a deficiency-based query vector\n",
    "    sample = np.zeros(len(nutrients))\n",
    "    for deficiency in deficiencies:\n",
    "        sample[nutrients.index(deficiency)] = 1  # Mark deficiencies\n",
    "\n",
    "    # Train KNN model\n",
    "    X_filtered = df_filtered[nutrients]\n",
    "    knn = NearestNeighbors(n_neighbors=k, metric='euclidean')\n",
    "    knn.fit(X_filtered)\n",
    "\n",
    "    # Find nearest food recommendations\n",
    "    distances, indices = knn.kneighbors([sample])\n",
    "    recommended_foods = df_filtered.iloc[indices[0]]\n",
    "\n",
    "    # Choose two nutrients for plotting (first two deficiencies)\n",
    "    x_axis = deficiencies[0]\n",
    "    y_axis = deficiencies[1] if len(deficiencies) > 1 else 'iron'  # Default to Iron if only one deficiency is given\n",
    "\n",
    "    # Plot all foods in gray\n",
    "    plt.figure(figsize=(8, 6))\n",
    "    plt.scatter(df_filtered[x_axis], df_filtered[y_axis], color='lightgray', label='All Foods', alpha=0.5)\n",
    "\n",
    "    # Highlight recommended foods in blue\n",
    "    for i, idx in enumerate(indices[0]):\n",
    "        plt.scatter(df_filtered.iloc[idx][x_axis], df_filtered.iloc[idx][y_axis], color='blue', label='Recommended Food' if i == 0 else \"\", alpha=0.7)\n",
    "        plt.annotate(df_filtered.iloc[idx]['description'], (df_filtered.iloc[idx][x_axis], df_filtered.iloc[idx][y_axis]), fontsize=9)\n",
    "\n",
    "    # Labels and title\n",
    "    plt.xlabel(x_axis.capitalize())\n",
    "    plt.ylabel(y_axis.capitalize())\n",
    "    plt.title(f\"KNN-Based Food Recommendation for {', '.join(deficiencies)} Deficiency\")\n",
    "    plt.legend()\n",
    "    plt.show()\n",
    "\n",
    "    # Print recommendations\n",
    "    print(f\"\\n🔍 Top {k} Recommended Foods for {', '.join(deficiencies)} Deficiency:\")\n",
    "    for i, row in recommended_foods.iterrows():\n",
    "        print(f\"{i+1}. {row['description']} - {', '.join([f'{d.capitalize()}: {row[d]} mg' for d in deficiencies])}\")\n",
    "\n",
    "# Example: Plot recommendations for Iron & Vitamin C deficiency (Veg)\n",
    "plot_knn_recommendation(deficiencies=[\"calcium\", \"iron\", \"niacin\"], category=\"Veg\", k=5)\n"
   ]
  },
  {
   "cell_type": "code",
   "execution_count": null,
   "metadata": {},
   "outputs": [],
   "source": []
  },
  {
   "cell_type": "code",
   "execution_count": null,
   "metadata": {},
   "outputs": [],
   "source": []
  }
 ],
 "metadata": {
  "kernelspec": {
   "display_name": ".venv",
   "language": "python",
   "name": "python3"
  },
  "language_info": {
   "codemirror_mode": {
    "name": "ipython",
    "version": 3
   },
   "file_extension": ".py",
   "mimetype": "text/x-python",
   "name": "python",
   "nbconvert_exporter": "python",
   "pygments_lexer": "ipython3",
   "version": "3.11.3"
  }
 },
 "nbformat": 4,
 "nbformat_minor": 2
}
