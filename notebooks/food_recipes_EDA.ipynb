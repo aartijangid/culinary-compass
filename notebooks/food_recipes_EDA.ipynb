{
 "cells": [
  {
   "cell_type": "code",
   "execution_count": null,
   "metadata": {},
   "outputs": [],
   "source": [
    "import pandas as pd\n",
    "import numpy as np\n",
    "\n",
    "pd.set_option(\"display.max_columns\", None)"
   ]
  },
  {
   "cell_type": "markdown",
   "metadata": {},
   "source": [
    "## RECIPES EDA"
   ]
  },
  {
   "cell_type": "code",
   "execution_count": null,
   "metadata": {},
   "outputs": [],
   "source": [
    "df=pd.read_csv('../data/recipes.csv', nrows=20000)\n"
   ]
  },
  {
   "cell_type": "code",
   "execution_count": null,
   "metadata": {},
   "outputs": [],
   "source": [
    "df.shape"
   ]
  },
  {
   "cell_type": "code",
   "execution_count": null,
   "metadata": {},
   "outputs": [],
   "source": [
    "df.info()"
   ]
  },
  {
   "cell_type": "code",
   "execution_count": null,
   "metadata": {},
   "outputs": [],
   "source": []
  },
  {
   "cell_type": "code",
   "execution_count": null,
   "metadata": {},
   "outputs": [],
   "source": [
    "df.head(5)"
   ]
  },
  {
   "cell_type": "code",
   "execution_count": null,
   "metadata": {},
   "outputs": [],
   "source": [
    "df['RecipeInstructions'].iloc[42]"
   ]
  },
  {
   "cell_type": "code",
   "execution_count": null,
   "metadata": {},
   "outputs": [],
   "source": [
    "df.isnull().sum()"
   ]
  },
  {
   "cell_type": "markdown",
   "metadata": {},
   "source": [
    "### Visualization starts here"
   ]
  },
  {
   "cell_type": "code",
   "execution_count": null,
   "metadata": {},
   "outputs": [],
   "source": [
    "import pandas as pd\n",
    "import numpy as np\n",
    "import matplotlib.pyplot as plt\n",
    "import seaborn as sns\n",
    "from datetime import datetime"
   ]
  },
  {
   "cell_type": "code",
   "execution_count": null,
   "metadata": {},
   "outputs": [],
   "source": [
    "# Set display options\n",
    "pd.set_option('display.max_columns', None)\n",
    "plt.style.use('seaborn')"
   ]
  },
  {
   "cell_type": "code",
   "execution_count": null,
   "metadata": {},
   "outputs": [],
   "source": [
    "# Load the data\n",
    "df = pd.read_csv('../data/recipes.csv')"
   ]
  },
  {
   "cell_type": "code",
   "execution_count": null,
   "metadata": {},
   "outputs": [],
   "source": [
    "df.shape"
   ]
  },
  {
   "cell_type": "code",
   "execution_count": null,
   "metadata": {},
   "outputs": [],
   "source": [
    "df.columns"
   ]
  },
  {
   "cell_type": "code",
   "execution_count": null,
   "metadata": {},
   "outputs": [],
   "source": [
    "df.isnull().sum()"
   ]
  },
  {
   "cell_type": "code",
   "execution_count": null,
   "metadata": {},
   "outputs": [],
   "source": [
    "df.dtypes"
   ]
  },
  {
   "cell_type": "code",
   "execution_count": null,
   "metadata": {},
   "outputs": [],
   "source": [
    "nutritional_cols = ['Calories', 'FatContent', 'SaturatedFatContent', \n",
    "                   'CholesterolContent', 'SodiumContent', 'CarbohydrateContent',\n",
    "                   'FiberContent', 'SugarContent', 'ProteinContent']\n",
    "\n"
   ]
  },
  {
   "cell_type": "code",
   "execution_count": null,
   "metadata": {},
   "outputs": [],
   "source": [
    "# Statistical summary\n",
    "print(\"\\nNutritional Content Summary:\")\n",
    "print(df[nutritional_cols].describe())\n"
   ]
  },
  {
   "cell_type": "code",
   "execution_count": null,
   "metadata": {},
   "outputs": [],
   "source": [
    "# correlation heatmap for nutritional values\n",
    "plt.figure(figsize=(12, 8))\n",
    "sns.heatmap(df[nutritional_cols].corr(), annot=True, cmap='coolwarm', center=0)\n",
    "plt.title('Correlation between Nutritional Values')\n",
    "plt.tight_layout()\n",
    "plt.show()"
   ]
  },
  {
   "cell_type": "code",
   "execution_count": null,
   "metadata": {},
   "outputs": [],
   "source": [
    "# display unique values of RecipeCategory top 20 based on count\n",
    "df['RecipeCategory'].value_counts().head(20)"
   ]
  },
  {
   "cell_type": "code",
   "execution_count": null,
   "metadata": {},
   "outputs": [],
   "source": [
    "# Recipe Categories Analysis\n",
    "plt.figure(figsize=(15, 6))\n",
    "df['RecipeCategory'].value_counts().head(20).plot(kind='bar')\n",
    "plt.title('Top 20 Recipe Categories')\n",
    "plt.xticks(rotation=45, ha='right')\n",
    "plt.tight_layout()\n",
    "plt.show()"
   ]
  },
  {
   "cell_type": "code",
   "execution_count": null,
   "metadata": {},
   "outputs": [],
   "source": [
    "# Get top 20 recipe categories\n",
    "top_categories = df['RecipeCategory'].value_counts().head(20)\n",
    "\n",
    "# Create the figure\n",
    "plt.figure(figsize=(12, 8))\n",
    "\n",
    "# Generate color gradient\n",
    "colors = sns.color_palette(\"Blues\", n_colors=len(top_categories))\n",
    "\n",
    "# Create horizontal bar plot\n",
    "bars = plt.barh(top_categories.index, top_categories.values, color=colors)\n",
    "\n",
    "# Add labels on bars\n",
    "for bar in bars:\n",
    "    width = bar.get_width()\n",
    "    plt.text(width + 1000,  # Offset for better readability\n",
    "             bar.get_y() + bar.get_height()/2,\n",
    "             f'{int(width):,}',\n",
    "             va='center', fontsize=10)\n",
    "\n",
    "# Customize the plot\n",
    "plt.title('Top 20 Recipe Categories', fontsize=14, pad=15)\n",
    "plt.xlabel('Count', fontsize=12)\n",
    "plt.ylabel('Recipe Category', fontsize=12)\n",
    "\n",
    "# Add grid for better readability\n",
    "plt.grid(axis='x', linestyle='--', alpha=0.7)\n",
    "\n",
    "# Remove top and right spines for a cleaner look\n",
    "plt.gca().spines['top'].set_visible(False)\n",
    "plt.gca().spines['right'].set_visible(False)\n",
    "\n",
    "# Adjust layout\n",
    "plt.tight_layout()\n",
    "\n",
    "# Show plot\n",
    "plt.show()\n"
   ]
  },
  {
   "cell_type": "code",
   "execution_count": null,
   "metadata": {},
   "outputs": [],
   "source": [
    "# Get top 5 categories\n",
    "top_categories = df['RecipeCategory'].value_counts().head(10).index\n",
    "df_top = df[df['RecipeCategory'].isin(top_categories)]\n",
    "\n",
    "# Normalize the nutritional values for better visualization\n",
    "nutrients = ['Calories', 'FatContent', 'ProteinContent', 'CarbohydrateContent', 'FiberContent', 'SugarContent']\n",
    "df_normalized = df_top[nutrients].apply(lambda x: (x - x.min()) / (x.max() - x.min()))"
   ]
  },
  {
   "cell_type": "code",
   "execution_count": null,
   "metadata": {},
   "outputs": [],
   "source": [
    "# Nutritional Distribution by Category\n",
    "# Stacked Bar Chart\n",
    "\n",
    "plt.figure(figsize=(12, 6))\n",
    "nutrient_means = df_top.groupby('RecipeCategory')[nutrients].mean()\n",
    "nutrient_means_normalized = nutrient_means.apply(lambda x: x/x.sum(), axis=1)\n",
    "nutrient_means_normalized.plot(kind='barh', stacked=True)\n",
    "plt.title('Proportional Nutrient Distribution by Category')\n",
    "plt.ylabel('Recipe Category')\n",
    "plt.xlabel('Proportion of Nutrients')\n",
    "plt.legend(bbox_to_anchor=(1.05, 1), loc='upper left')\n",
    "plt.tight_layout()\n",
    "plt.show()\n"
   ]
  },
  {
   "cell_type": "code",
   "execution_count": null,
   "metadata": {},
   "outputs": [],
   "source": [
    "# Ingredients Analysis\n",
    "# Count number of ingredients per recipe\n",
    "df['IngredientCount'] = df['RecipeIngredientParts'].apply(lambda x: len(str(x).split(',')))"
   ]
  },
  {
   "cell_type": "code",
   "execution_count": null,
   "metadata": {},
   "outputs": [],
   "source": [
    "# Save key insights\n",
    "insights = {\n",
    "    'total_recipes': len(df),\n",
    "    'avg_rating': df['AggregatedRating'].mean(),\n",
    "    'avg_calories': df['Calories'].mean(),\n",
    "    'avg_ingredients': df['IngredientCount'].mean(),\n",
    "}\n",
    "\n",
    "print(\"\\nKey Insights:\")\n",
    "for key, value in insights.items():\n",
    "    print(f\"{key}: {value:.2f}\")"
   ]
  },
  {
   "cell_type": "code",
   "execution_count": null,
   "metadata": {},
   "outputs": [],
   "source": [
    "# display first 10 rows of df with name, keywords, RecipeCategory, RecipeIngredientParts, RecipeInstructions, RecipeYield, PrepTime, CookTime, TotalTime, RecipeInstructions, RecipeIngredientParts\n",
    "df_temp = df[['Name', 'Keywords', 'RecipeCategory', 'RecipeIngredientParts', 'RecipeInstructions', 'RecipeYield', 'PrepTime', 'CookTime', 'TotalTime']].head(25)\n",
    "# save df to csv\n",
    "df_temp.to_csv('recipes.csv', index=False)\n"
   ]
  },
  {
   "cell_type": "code",
   "execution_count": null,
   "metadata": {},
   "outputs": [],
   "source": [
    "# Function to process ingredient\n",
    "def extract_ingredients(ingredient):\n",
    "    if pd.isna(ingredient):\n",
    "        return []\n",
    "    # Clean the string and split into ingredients\n",
    "    ingredients = ingredient.replace('c(', '').replace(')', '').replace('\"', '').split(',')\n",
    "    return [ingredient.strip().lower() for ingredient in ingredients]\n",
    "\n",
    "# Extract and count all ingredient\n",
    "all_ingredients = []\n",
    "for ingredient in df['RecipeIngredientParts'].dropna():\n",
    "    all_ingredients.extend(extract_ingredients(ingredient))\n",
    "\n",
    "# Count ingredients and get top 20\n",
    "ingredient_counts = pd.Series(all_ingredients).value_counts().head(20)\n",
    "\n",
    "# Create the plot\n",
    "plt.figure(figsize=(12, 8))\n",
    "\n",
    "# Create horizontal bar chart with color gradient\n",
    "colors = sns.color_palette(\"RdYlBu_r\", n_colors=len(ingredient_counts))\n",
    "bars = plt.barh(range(len(ingredient_counts)), ingredient_counts.values, color=colors)\n",
    "\n",
    "# Customize the plot\n",
    "plt.title('Top 20 Recipe ingredients', fontsize=14, pad=20)\n",
    "plt.xlabel('Count', fontsize=12)\n",
    "plt.ylabel('Ingredients', fontsize=12)\n",
    "\n",
    "# Add value labels on the bars\n",
    "for i, bar in enumerate(bars):\n",
    "    width = bar.get_width()\n",
    "    plt.text(width + 100,  \n",
    "             bar.get_y() + bar.get_height()/2,\n",
    "             f'{int(width):,}',\n",
    "             va='center',\n",
    "             fontsize=10)\n",
    "\n",
    "# Set y-tick labels\n",
    "plt.yticks(range(len(ingredient_counts)), ingredient_counts.index)\n",
    "\n",
    "# Add grid for better readability\n",
    "plt.grid(axis='x', linestyle='--', alpha=0.7)\n",
    "\n",
    "# Remove top and right spines\n",
    "plt.gca().spines['top'].set_visible(False)\n",
    "plt.gca().spines['right'].set_visible(False)\n",
    "\n",
    "# Adjust layout\n",
    "plt.tight_layout()\n",
    "\n",
    "# Show plot\n",
    "plt.show()\n",
    "\n",
    "# Print summary statistics\n",
    "print(\"\\nIngredient Statistics:\")\n",
    "print(f\"Total Unique ingredient: {len(pd.Series(all_ingredients).unique()):,}\")\n",
    "print(f\"Total ingredient Occurrences: {len(all_ingredients):,}\")\n",
    "\n",
    "# Print top ingredient combinations\n",
    "print(\"\\n🔍 Top 5 Most Common Ingredients:\")\n",
    "for idx, (ingredient, count) in enumerate(ingredient_counts.head(20).items(), 1):\n",
    "    print(f\"{idx}. {ingredient.title()}: {count:,} recipes\")"
   ]
  },
  {
   "cell_type": "code",
   "execution_count": null,
   "metadata": {},
   "outputs": [],
   "source": [
    "def normalize_ingredient(ingredient):\n",
    "    \"\"\"Normalize ingredient names by combining similar ingredients\"\"\"\n",
    "    ingredient = ingredient.lower().strip()\n",
    "    \n",
    "    # Dictionary of ingredient mappings\n",
    "    ingredient_mappings = {\n",
    "        # Eggs\n",
    "        'eggs': 'egg',\n",
    "        'egg whites': 'egg',\n",
    "        'egg white': 'egg',\n",
    "        'egg yolks': 'egg',\n",
    "        'egg yolk': 'egg',\n",
    "        'raw egg': 'egg',\n",
    "        'egg substitute': 'egg',\n",
    "        'egg beaters': 'egg',\n",
    "        \n",
    "        # Sugar\n",
    "        'brown sugar': 'sugar',\n",
    "        'white sugar': 'sugar',\n",
    "        'granulated sugar': 'sugar',\n",
    "        'powdered sugar': 'sugar',\n",
    "        'caster sugar': 'sugar',\n",
    "        'confectioners sugar': 'sugar',\n",
    "        'demerara sugar': 'sugar',\n",
    "        'light demerara sugar': 'sugar',\n",
    "        \n",
    "        # Salt\n",
    "        'sea salt': 'salt',\n",
    "        'kosher salt': 'salt',\n",
    "        \n",
    "        # Flour \n",
    "        'all-purpose flour': 'flour',\n",
    "        'all purpose flour': 'flour',\n",
    "        'unbleached all-purpose flour': 'flour',\n",
    "        'unbleached all purpose flour': 'flour',\n",
    "        'self-rising flour': 'flour',\n",
    "        'plain flour': 'flour',\n",
    "        'wheat flour': 'flour',\n",
    "        \n",
    "        # Oil\n",
    "        'vegetable oil': 'oil',\n",
    "        'olive oil': 'oil',\n",
    "        'spanish olive oil': 'oil',\n",
    "        'walnut oil': 'oil',\n",
    "        'canola oil': 'oil',\n",
    "        'extra virgin olive oil': 'oil',\n",
    "        'coconut oil': 'oil',\n",
    "        \n",
    "        # Butter\n",
    "        'unsalted butter': 'butter',\n",
    "        'salted butter': 'butter',\n",
    "        'melted butter': 'butter',\n",
    "        'sweet butter': 'butter',\n",
    "    }\n",
    "    \n",
    "    # Return normalized ingredient name\n",
    "    return ingredient_mappings.get(ingredient, ingredient)\n",
    "\n",
    "def extract_ingredients(ingredient_str):\n",
    "    \"\"\"Extract and normalize ingredients from string\"\"\"\n",
    "    if pd.isna(ingredient_str):\n",
    "        return []\n",
    "    # Clean the string and split into ingredients\n",
    "    ingredients = ingredient_str.replace('c(', '').replace(')', '').replace('\"', '').split(',')\n",
    "    return [normalize_ingredient(ingredient.strip().lower()) for ingredient in ingredients]\n",
    "\n",
    "# Extract and count all ingredients\n",
    "all_ingredients = []\n",
    "for ingredient in df['RecipeIngredientParts'].dropna():\n",
    "    all_ingredients.extend(extract_ingredients(ingredient))"
   ]
  },
  {
   "cell_type": "code",
   "execution_count": null,
   "metadata": {},
   "outputs": [],
   "source": [
    "# save all ingredients to csv\n",
    "df_ingredients = pd.DataFrame(all_ingredients, columns=['ingredients'])\n",
    "df_ingredients.to_csv('ingredients.csv', index=False)"
   ]
  },
  {
   "cell_type": "code",
   "execution_count": null,
   "metadata": {},
   "outputs": [],
   "source": [
    "# Count ingredients and get top 20\n",
    "ingredient_counts = pd.Series(all_ingredients).value_counts().head(20)\n",
    "\n",
    "# Create the plot\n",
    "plt.figure(figsize=(12, 8))\n",
    "\n",
    "# Create horizontal bar chart with custom color palette\n",
    "colors = sns.color_palette(\"RdYlBu_r\", n_colors=len(ingredient_counts))\n",
    "bars = plt.barh(range(len(ingredient_counts)), ingredient_counts.values, color=colors)\n",
    "\n",
    "# Customize the plot\n",
    "plt.title('Top 20 Recipe Ingredients (Normalized)', fontsize=14, pad=20)\n",
    "plt.xlabel('Count', fontsize=12)\n",
    "plt.ylabel('Ingredients', fontsize=12)\n",
    "\n",
    "# Add value labels on the bars\n",
    "for i, bar in enumerate(bars):\n",
    "    width = bar.get_width()\n",
    "    plt.text(width + 100,  \n",
    "             bar.get_y() + bar.get_height()/2,\n",
    "             f'{int(width):,}',\n",
    "             va='center',\n",
    "             fontsize=10)\n",
    "\n",
    "# Set y-tick labels\n",
    "plt.yticks(range(len(ingredient_counts)), ingredient_counts.index)\n",
    "\n",
    "# Add grid for better readability\n",
    "plt.grid(axis='x', linestyle='--', alpha=0.7)\n",
    "\n",
    "# Remove top and right spines\n",
    "plt.gca().spines['top'].set_visible(False)\n",
    "plt.gca().spines['right'].set_visible(False)\n",
    "\n",
    "# Adjust layout\n",
    "plt.tight_layout()\n",
    "\n",
    "# Show plot\n",
    "plt.show()\n",
    "\n",
    "# Print summary statistics with emoji\n",
    "print(\"\\n📊 Ingredient Statistics:\")\n",
    "print(f\"Total Unique Ingredients: {len(pd.Series(all_ingredients).unique()):,}\")\n",
    "print(f\"Total Ingredient Occurrences: {len(all_ingredients):,}\")\n",
    "print(f\"Most Common Ingredient: {ingredient_counts.index[0]} ({ingredient_counts.values[0]:,} occurrences)\")\n",
    "\n",
    "# Print top ingredient combinations\n",
    "print(\"\\n🔍 Top 5 Most Common Ingredients:\")\n",
    "for idx, (ingredient, count) in enumerate(ingredient_counts.head().items(), 1):\n",
    "    print(f\"{idx}. {ingredient.title()}: {count:,} recipes\")"
   ]
  },
  {
   "cell_type": "markdown",
   "metadata": {},
   "source": [
    "### Data cleaning starts here"
   ]
  },
  {
   "cell_type": "code",
   "execution_count": null,
   "metadata": {},
   "outputs": [],
   "source": [
    "import pandas as pd\n",
    "import numpy as np\n",
    "df=pd.read_csv('../data/recipes.csv', nrows=20000)"
   ]
  },
  {
   "cell_type": "code",
   "execution_count": null,
   "metadata": {},
   "outputs": [],
   "source": [
    "df.duplicated().any()"
   ]
  },
  {
   "cell_type": "code",
   "execution_count": null,
   "metadata": {},
   "outputs": [],
   "source": [
    "numeric_columns = ['Calories', 'FatContent', 'SaturatedFatContent', \n",
    "                    'CholesterolContent', 'SodiumContent', 'CarbohydrateContent',\n",
    "                    'FiberContent', 'SugarContent', 'ProteinContent']\n",
    "\n",
    "# Check which rows have all zeros in numeric columns\n",
    "all_zeros = (df[numeric_columns] == 0).all(axis=1)\n",
    "zero_nutrition_rows = df[all_zeros]\n"
   ]
  },
  {
   "cell_type": "code",
   "execution_count": null,
   "metadata": {},
   "outputs": [],
   "source": [
    "# Print results\n",
    "print(f\"\\nAnalysis of Zero Nutritional Values:\")\n",
    "print(f\"Total rows with all nutritional values = 0: {len(zero_nutrition_rows)} ({(len(zero_nutrition_rows)/len(df)*100):.2f}%)\")\n",
    "\n",
    "# Display sample of these rows\n",
    "print(\"\\nSample of recipes with zero nutritional values:\")\n",
    "print(zero_nutrition_rows[['Name', 'RecipeCategory'] + numeric_columns].head())\n",
    "\n",
    "# Save these recipes to investigate\n",
    "# zero_nutrition_rows.to_csv('zero_nutrition_recipes.csv', index=False)\n",
    "\n",
    "# Additional analysis of these rows\n",
    "print(\"\\nCategories with zero nutritional values:\")\n",
    "print(zero_nutrition_rows['RecipeCategory'].value_counts().head())"
   ]
  },
  {
   "cell_type": "code",
   "execution_count": null,
   "metadata": {},
   "outputs": [],
   "source": [
    "# Remove rows with all zeros and create new dataframe\n",
    "df_clean = df[~all_zeros].copy()"
   ]
  },
  {
   "cell_type": "code",
   "execution_count": null,
   "metadata": {},
   "outputs": [],
   "source": [
    " # Create a copy to avoid modifying original data\n",
    "# df_clean = df.copy()"
   ]
  },
  {
   "cell_type": "code",
   "execution_count": null,
   "metadata": {},
   "outputs": [],
   "source": [
    "import re\n",
    "\n",
    "# Time-related columns\n",
    "\n",
    "def convert_duration(duration_str):\n",
    "    \"\"\"Convert ISO 8601 duration format to minutes\"\"\"\n",
    "    if pd.isna(duration_str):\n",
    "        return np.nan\n",
    "        \n",
    "    try:\n",
    "        # Remove 'PT' prefix and initialize variables\n",
    "        duration_str = str(duration_str).replace('PT', '')\n",
    "        hours = 0\n",
    "        minutes = 0\n",
    "        \n",
    "        # Find hours\n",
    "        hour_match = re.search(r'(\\d+)H', duration_str)\n",
    "        if hour_match:\n",
    "            hours = int(hour_match.group(1))\n",
    "        \n",
    "        # Find minutes\n",
    "        minute_match = re.search(r'(\\d+)M', duration_str)\n",
    "        if minute_match:\n",
    "            minutes = int(minute_match.group(1))\n",
    "        \n",
    "        total_minutes = hours * 60 + minutes\n",
    "        return total_minutes if total_minutes > 0 else np.nan\n",
    "        \n",
    "    except (ValueError, AttributeError):\n",
    "        return np.nan\n"
   ]
  },
  {
   "cell_type": "code",
   "execution_count": null,
   "metadata": {},
   "outputs": [],
   "source": [
    "# Convert time columns to minutes\n",
    "time_columns = ['CookTime', 'PrepTime', 'TotalTime']\n",
    "for col in time_columns:\n",
    "    df_clean[f'New_{col}_Minutes'] = df_clean[col].apply(convert_duration)"
   ]
  },
  {
   "cell_type": "code",
   "execution_count": null,
   "metadata": {},
   "outputs": [],
   "source": [
    "df_clean[['CookTime', 'PrepTime', 'TotalTime', 'New_CookTime_Minutes', 'New_PrepTime_Minutes', 'New_TotalTime_Minutes']].head() "
   ]
  },
  {
   "cell_type": "code",
   "execution_count": null,
   "metadata": {},
   "outputs": [],
   "source": [
    "# Date formatting\n",
    "\n",
    "df_clean['DatePublished'] = pd.to_datetime(df_clean['DatePublished'])\n",
    "df_clean['PublishYear'] = df_clean['DatePublished'].dt.year\n",
    "df_clean['PublishMonth'] = df_clean['DatePublished'].dt.month"
   ]
  },
  {
   "cell_type": "code",
   "execution_count": null,
   "metadata": {},
   "outputs": [],
   "source": [
    "# Clean text columns\n",
    "text_columns = ['Name', 'Description', 'RecipeCategory', 'AuthorName']\n",
    "for col in text_columns:\n",
    "    df_clean[col] = df_clean[col].str.strip()"
   ]
  },
  {
   "cell_type": "code",
   "execution_count": null,
   "metadata": {},
   "outputs": [],
   "source": [
    "# Process Keywords\n",
    "def clean_keywords(keywords_str):\n",
    "    if pd.isna(keywords_str):\n",
    "        return []\n",
    "    # Remove c() and split\n",
    "    keywords = keywords_str.replace('c(', '').replace(')', '').replace('\"', '').split(',')\n",
    "    return [k.strip() for k in keywords if k.strip()]\n",
    "\n",
    "df_clean['New_Keywords_List'] = df_clean['Keywords'].apply(clean_keywords)\n",
    "    \n"
   ]
  },
  {
   "cell_type": "code",
   "execution_count": null,
   "metadata": {},
   "outputs": [],
   "source": [
    "df_clean.head(10)"
   ]
  },
  {
   "cell_type": "code",
   "execution_count": null,
   "metadata": {},
   "outputs": [],
   "source": [
    "# Clean Ingredients\n",
    "def clean_ingredients(ingredients_str):\n",
    "    if pd.isna(ingredients_str):\n",
    "        return []\n",
    "    ingredients = ingredients_str.replace('c(', '').replace(')', '').replace('\"', '').split(',')\n",
    "    return [ing.strip() for ing in ingredients if ing.strip()]\n",
    "\n",
    "df_clean['New_Ingredients_List'] = df_clean['RecipeIngredientParts'].apply(clean_ingredients)\n",
    "df_clean['New_Quantities_List'] = df_clean['RecipeIngredientQuantities'].apply(clean_ingredients)"
   ]
  },
  {
   "cell_type": "code",
   "execution_count": null,
   "metadata": {},
   "outputs": [],
   "source": [
    "df_clean.head(5)"
   ]
  },
  {
   "cell_type": "code",
   "execution_count": null,
   "metadata": {},
   "outputs": [],
   "source": [
    "# Clean Instructions\n",
    "def clean_instructions(instructions_str):\n",
    "    if pd.isna(instructions_str):\n",
    "        return []\n",
    "    instructions = instructions_str.replace('c(', '').replace(')', '').replace('\"', '').split('.,')\n",
    "    return [instr.strip() + '.' for instr in instructions if instr.strip()]\n",
    "\n",
    "df_clean['New_Instructions_List'] = df_clean['RecipeInstructions'].apply(clean_instructions)\n",
    "    \n"
   ]
  },
  {
   "cell_type": "code",
   "execution_count": null,
   "metadata": {},
   "outputs": [],
   "source": [
    "df_clean.head(5)"
   ]
  },
  {
   "cell_type": "code",
   "execution_count": null,
   "metadata": {},
   "outputs": [],
   "source": [
    "pd.options.display.max_rows = None\n",
    "pd.options.display.max_columns = None"
   ]
  },
  {
   "cell_type": "code",
   "execution_count": null,
   "metadata": {},
   "outputs": [],
   "source": [
    "# find df_clean where recipe id = 39\n",
    "df_clean[df_clean['RecipeId'] == 39]\n",
    "\n"
   ]
  },
  {
   "cell_type": "code",
   "execution_count": null,
   "metadata": {},
   "outputs": [],
   "source": [
    "# Format numeric columns\n",
    "numeric_columns = ['Calories', 'FatContent', 'SaturatedFatContent', \n",
    "                    'CholesterolContent', 'SodiumContent', 'CarbohydrateContent',\n",
    "                    'FiberContent', 'SugarContent', 'ProteinContent']\n",
    "\n",
    "for col in numeric_columns:\n",
    "    df_clean[col] = pd.to_numeric(df_clean[col], errors='coerce').round(1)\n"
   ]
  },
  {
   "cell_type": "code",
   "execution_count": null,
   "metadata": {},
   "outputs": [],
   "source": [
    "df[numeric_columns].head(10)"
   ]
  },
  {
   "cell_type": "code",
   "execution_count": null,
   "metadata": {},
   "outputs": [],
   "source": [
    "df_clean[numeric_columns].head(10)"
   ]
  },
  {
   "cell_type": "code",
   "execution_count": null,
   "metadata": {},
   "outputs": [],
   "source": [
    "# df.info()"
   ]
  },
  {
   "cell_type": "code",
   "execution_count": null,
   "metadata": {},
   "outputs": [],
   "source": [
    "# df_clean.info()"
   ]
  },
  {
   "cell_type": "code",
   "execution_count": null,
   "metadata": {},
   "outputs": [],
   "source": [
    "# Sample 50k records randomly from df_cleaned\n",
    "df_5k = df_clean.sample(n=5000, random_state=42)  # random_state for reproducibility\n",
    "\n",
    "# Save to CSV file\n",
    "output_path = 'recipes_5k.csv'\n",
    "df_5k.to_csv(output_path, index=False)"
   ]
  },
  {
   "cell_type": "code",
   "execution_count": null,
   "metadata": {},
   "outputs": [],
   "source": [
    "# Check for partially missing nutritional information\n",
    "def analyze_zero_nutrients(df_clean):\n",
    "    zero_counts = {}\n",
    "    for col in numeric_columns:\n",
    "        zero_counts[col] = (df_clean[col] == 0).sum()\n",
    "    \n",
    "    print(\"\\n Count of zero values for each nutrient:\")\n",
    "    for col, count in zero_counts.items():\n",
    "        percentage = (count/len(df_clean)*100)\n",
    "        print(f\"{col}: {count} zeros ({percentage:.2f}%)\")\n",
    "    \n",
    "    # Check for suspicious patterns\n",
    "    partial_zeros = df_clean[df_clean[numeric_columns].apply(lambda x: (x == 0).any() & (x != 0).any(), axis=1)]\n",
    "    print(f\"\\nRows with some (but not all) zero values: {len(partial_zeros)}\")\n",
    "    \n",
    "    return partial_zeros\n",
    "\n",
    "partial_zeros = analyze_zero_nutrients(df_clean)\n",
    "\n",
    "# Display sample of partial zero rows\n",
    "print(\"Sample of recipes with partial zero nutritional values:\")\n",
    "print(partial_zeros[['Name', 'RecipeCategory'] + numeric_columns].head())"
   ]
  },
  {
   "cell_type": "code",
   "execution_count": null,
   "metadata": {},
   "outputs": [],
   "source": [
    "df_clean['Name'].duplicated().sum()"
   ]
  },
  {
   "cell_type": "code",
   "execution_count": null,
   "metadata": {},
   "outputs": [],
   "source": [
    "# show all duplicated names\n",
    "# df[df['Name'].duplicated(keep=False)].sort_values(by='Name')\n",
    "\n",
    "\n",
    "# Find duplicates and show first 10 records\n",
    "duplicated_recipes = df_clean[df_clean['Name'].duplicated(keep=False)].sort_values(by='Name').head(10)\n",
    "\n",
    "# Display the results in a more readable format\n",
    "print(f\"Sample of Duplicated Recipe Names:\")\n",
    "\n",
    "print(duplicated_recipes[['Name', 'AuthorName', 'RecipeCategory', 'AggregatedRating', 'ReviewCount', 'Calories']+numeric_columns].to_string())\n",
    "\n",
    "print(f\"\\nTotal number of recipes with duplicate names: {len(df[df['Name'].duplicated(keep=False)])}\")"
   ]
  },
  {
   "cell_type": "code",
   "execution_count": null,
   "metadata": {},
   "outputs": [],
   "source": [
    "# Near duplicates, convert all names to lowercase and strip whitespace:\n",
    "df_clean['clean_name'] = df_clean['Name'].str.lower().str.strip()\n",
    "\n",
    "df_duplicates = df_clean[df_clean['clean_name'].duplicated(keep=False)].sort_values(by='clean_name')\n",
    "# show df_duplicates\n",
    "df_duplicates.head(10)\n"
   ]
  },
  {
   "cell_type": "code",
   "execution_count": null,
   "metadata": {},
   "outputs": [],
   "source": [
    "# show df_duplicates with all columns\n",
    "df_duplicates[df_clean.columns].head(6)"
   ]
  },
  {
   "cell_type": "code",
   "execution_count": null,
   "metadata": {},
   "outputs": [],
   "source": [
    "# First, create clean name column\n",
    "df_clean['clean_name'] = df_clean['Name'].str.lower().str.strip()\n",
    "\n",
    "# Check duplicates across multiple relevant columns\n",
    "columns_to_check = [\n",
    "    'clean_name',\n",
    "    'Calories',\n",
    "    'FatContent',\n",
    "    'SaturatedFatContent',\n",
    "    'CholesterolContent',\n",
    "    'SodiumContent',\n",
    "    'CarbohydrateContent',\n",
    "    'FiberContent',\n",
    "    'SugarContent',\n",
    "    'ProteinContent',\n",
    "    'RecipeCategory'\n",
    "]\n",
    "\n",
    "# Find duplicates across all specified columns\n",
    "duplicates = df_clean[df_clean.duplicated(subset=columns_to_check, keep=False)].sort_values(by='clean_name')\n",
    "\n",
    "# Display summary\n",
    "print(f\"Duplicate Analysis:\")\n",
    "print(f\"Total number of duplicate records: {len(duplicates)}\")\n",
    "print(f\"Number of unique recipes that have duplicates: {len(duplicates['clean_name'].unique())}\")\n",
    "\n",
    "# Show sample of duplicates with relevant columns\n",
    "print(\"\\nSample of Duplicate Records (showing different RecipeIds but same content):\")\n",
    "print(\"=\" * 100)\n",
    "sample_cols = ['RecipeId', 'Name', 'AuthorName', 'RecipeCategory', 'Calories', 'ReviewCount']\n",
    "print(duplicates[sample_cols].head(10).to_string())\n",
    "\n",
    "# Group by clean name to see how many duplicates each recipe has\n",
    "duplicate_counts = duplicates.groupby('clean_name').size().sort_values(ascending=False)\n",
    "print(\"\\nTop 10 Most Duplicated Recipes:\")\n",
    "print(duplicate_counts.head(10))"
   ]
  },
  {
   "cell_type": "markdown",
   "metadata": {},
   "source": [
    "## FOOD EDA"
   ]
  },
  {
   "cell_type": "code",
   "execution_count": null,
   "metadata": {},
   "outputs": [],
   "source": [
    "# read food_data.xlsx\n",
    "food_data_df = pd.read_excel('../data/food_data.xlsx')\n",
    "food_data_df.head()"
   ]
  },
  {
   "cell_type": "code",
   "execution_count": null,
   "metadata": {},
   "outputs": [],
   "source": [
    "# read food.csv\n",
    "preprocessed_food_df = pd.read_csv('../data/preprocessed/food.csv')\n",
    "preprocessed_food_df.head()"
   ]
  },
  {
   "cell_type": "code",
   "execution_count": null,
   "metadata": {},
   "outputs": [],
   "source": [
    "preprocessed_food_df.columns"
   ]
  },
  {
   "cell_type": "code",
   "execution_count": null,
   "metadata": {},
   "outputs": [],
   "source": [
    "preprocessed_food_df.head(7)"
   ]
  },
  {
   "cell_type": "markdown",
   "metadata": {},
   "source": [
    "'vitamin_D', 'calcium',  'vitamin_C', 'iron', 'potassium', \n",
    "        'vitamin_B_6', 'vitamin_B_12', 'vitamin_A', 'riboflavin', 'vitamin_E', 'folate_total',\n",
    "        'vitamin_K', 'zinc', 'magnesium','sodium',  'thiamin', 'Niacin',  'selenium'"
   ]
  },
  {
   "cell_type": "code",
   "execution_count": null,
   "metadata": {},
   "outputs": [],
   "source": [
    "food_info_cols = ['description', 'category', 'main_category','sub_category']\n",
    "# nutrient_cols\n",
    "nutrient_cols = ['vitamin_D', 'calcium',  'vitamin_C', 'iron', 'potassium', \n",
    "        'vitamin_B_6', 'vitamin_B_12', 'vitamin_A', 'riboflavin', 'vitamin_E', 'folate_total',\n",
    "        'vitamin_K', 'zinc', 'magnesium','sodium',  'thiamin', 'Niacin',  'selenium', 'water']\n",
    "# show nutrient_cols\n",
    "food_df = preprocessed_food_df[food_info_cols + nutrient_cols]\n"
   ]
  },
  {
   "cell_type": "code",
   "execution_count": null,
   "metadata": {},
   "outputs": [],
   "source": [
    "food_df.shape"
   ]
  },
  {
   "cell_type": "code",
   "execution_count": null,
   "metadata": {},
   "outputs": [],
   "source": [
    "food_df.isnull().sum()"
   ]
  },
  {
   "cell_type": "code",
   "execution_count": null,
   "metadata": {},
   "outputs": [],
   "source": [
    "food_df.duplicated().sum()"
   ]
  },
  {
   "cell_type": "markdown",
   "metadata": {},
   "source": [
    "### visualization"
   ]
  },
  {
   "cell_type": "code",
   "execution_count": null,
   "metadata": {},
   "outputs": [],
   "source": [
    "# plot top 10 main categories\n",
    "food_df['main_category'].value_counts().head(10).plot(kind='bar')\n",
    "plt.show()"
   ]
  },
  {
   "cell_type": "code",
   "execution_count": null,
   "metadata": {},
   "outputs": [],
   "source": [
    "# plot top 10 sub categories\n",
    "food_df['sub_category'].value_counts().head(10).plot(kind='bar')\n",
    "plt.show()\n"
   ]
  },
  {
   "cell_type": "code",
   "execution_count": null,
   "metadata": {},
   "outputs": [],
   "source": [
    "\n",
    "import pandas as pd\n",
    "import matplotlib.pyplot as plt\n",
    "from collections import defaultdict\n",
    "\n",
    "# Assuming your dataframe is named 'df'\n",
    "# If not, load it with: df = pd.read_csv('your_file.csv')\n",
    "\n",
    "# List of nutrient columns (all columns except the first 4 which are descriptive)\n",
    "nutrient_cols = food_df.columns[4:]\n",
    "\n",
    "# Create a dictionary to store nutrient-subcategory pairs\n",
    "bigram_counts = defaultdict(float)\n",
    "\n",
    "# Iterate through each row and count nutrient-subcategory associations \n",
    "# creates \n",
    "for _, row in food_df.iterrows():\n",
    "    subcat = row['sub_category']\n",
    "    for nutrient in nutrient_cols:\n",
    "        if row[nutrient] > 0:  # Only count if the nutrient is present\n",
    "            bigram = f\"{nutrient} - {subcat}\"\n",
    "            bigram_counts[bigram] += row[nutrient]\n",
    "\n",
    "print(bigram_counts)\n",
    "\n",
    "# Convert to DataFrame and sort by count\n",
    "bigram_df = pd.DataFrame.from_dict(bigram_counts, orient='index', columns=['count'])\n",
    "bigram_df = bigram_df.sort_values('count', ascending=False)\n",
    "\n",
    "# Plot the top 20 bigrams\n",
    "plt.figure(figsize=(12, 8))\n",
    "top_bigrams = bigram_df.head(10)\n",
    "top_bigrams.plot(kind='barh', color='skyblue')\n",
    "plt.title('Top 10 Nutrient-Subcategory Associations')\n",
    "plt.xlabel('Total Nutrient Amount (Normalized)')\n",
    "plt.ylabel('Nutrient - Subcategory Pair')\n",
    "plt.gca().invert_yaxis()  # Show highest at top\n",
    "plt.gca().set_facecolor('white') \n",
    "plt.tight_layout()\n",
    "plt.show()"
   ]
  },
  {
   "cell_type": "code",
   "execution_count": null,
   "metadata": {},
   "outputs": [],
   "source": [
    "import pandas as pd\n",
    "import matplotlib.pyplot as plt\n",
    "\n",
    "# Common style settings for both plots\n",
    "plt.style.use('ggplot')  # This will make styles more consistent\n",
    "plt.rcParams['figure.facecolor'] = 'white'  # Set background color\n",
    "\n",
    "def plot_top_bigrams(bigram_counts, title, color):\n",
    "    # Convert to DataFrame and sort by count\n",
    "    bigram_df = pd.DataFrame(list(bigram_counts.items()), columns=['bigram', 'count'])\n",
    "    bigram_df = bigram_df.sort_values('count', ascending=False)\n",
    "    \n",
    "    # Plot the top 5 bigrams\n",
    "    plt.figure(figsize=(12, 10))\n",
    "    top_bigrams = bigram_df.head(10)\n",
    "    plt.barh(top_bigrams['bigram'], top_bigrams['count'], color=color)\n",
    "    plt.title(title, fontsize=22, fontweight='bold')\n",
    "    plt.xlabel('Total Nutrient Amount (Normalized)', fontsize=14)\n",
    "    plt.ylabel('Nutrient - Subcategory Pair', fontsize=14)\n",
    "    plt.gca().invert_yaxis()  # Show highest at top\n",
    "    plt.gca().set_facecolor('#fafafa') \n",
    "    plt.tight_layout()\n",
    "    plt.show()\n",
    "\n",
    "# First plot\n",
    "nutrient_cols = food_df.columns[4:]\n",
    "bigram_counts = {}\n",
    "\n",
    "for _, row in food_df.iterrows():\n",
    "    subcat = row['sub_category']\n",
    "    for nutrient in nutrient_cols:\n",
    "        if row[nutrient] > 0:\n",
    "            bigram = f\"{nutrient} - {subcat}\"\n",
    "            bigram_counts[bigram] = bigram_counts.get(bigram, 0) + row[nutrient]\n",
    "\n",
    "plot_top_bigrams(bigram_counts, 'Top 10 Nutrient-Subcategory Associations', '#8786f3')\n",
    "\n",
    "# Second plot\n",
    "nutrient_cols = [col for col in food_df.columns[4:] if col != 'water']\n",
    "bigram_counts = {}\n",
    "\n",
    "for _, row in preprocessed_food_df.iterrows():\n",
    "    subcat = row['sub_category']\n",
    "    for nutrient in nutrient_cols:\n",
    "        if row[nutrient] > 0:\n",
    "            bigram = f\"{nutrient} - {subcat}\"\n",
    "            bigram_counts[bigram] = bigram_counts.get(bigram, 0) + row[nutrient]\n",
    "\n",
    "plot_top_bigrams(bigram_counts, 'Top 10 Nutrient-Subcategory Associations (excluding water)', '#ffa083')"
   ]
  },
  {
   "cell_type": "code",
   "execution_count": null,
   "metadata": {},
   "outputs": [],
   "source": [
    "import pandas as pd\n",
    "import matplotlib.pyplot as plt\n",
    "\n",
    "# List of nutrient columns (all columns except the first 4 which are descriptive)\n",
    "nutrient_cols = food_df.columns[4:]\n",
    "\n",
    "# Exclude water from nutrient columns if needed\n",
    "nutrient_cols = [col for col in nutrient_cols]\n",
    "\n",
    "# Create an empty dictionary to store nutrient-subcategory pairs\n",
    "bigram_counts = {}\n",
    "\n",
    "# Iterate through each row and count nutrient-subcategory associations\n",
    "for _, row in food_df.iterrows():\n",
    "    subcat = row['sub_category']\n",
    "    for nutrient in nutrient_cols:\n",
    "        if row[nutrient] > 0:  # Only count if the nutrient is present\n",
    "            bigram = f\"{nutrient} - {subcat}\"\n",
    "            if bigram in bigram_counts:\n",
    "                bigram_counts[bigram] += row[nutrient]\n",
    "            else:\n",
    "                bigram_counts[bigram] = row[nutrient]\n",
    "\n",
    "# Convert to DataFrame and sort by count\n",
    "bigram_df = pd.DataFrame(list(bigram_counts.items()), columns=['bigram', 'count'])\n",
    "bigram_df = bigram_df.sort_values('count', ascending=False)\n",
    "\n",
    "# Plot the top 10 bigrams\n",
    "plt.figure(figsize=(12, 8))\n",
    "top_bigrams = bigram_df.head(5)\n",
    "plt.barh(top_bigrams['bigram'], top_bigrams['count'], color='#8786f3')\n",
    "plt.title('Top 5 Nutrient-Subcategory Associations', fontsize=16)\n",
    "plt.xlabel('Total Nutrient Amount (Normalized)', fontsize=14)\n",
    "plt.ylabel('Nutrient - Subcategory Pair', fontsize=14)\n",
    "plt.gca().invert_yaxis()  # Show highest at top\n",
    "plt.gca().set_facecolor('white') \n",
    "plt.tight_layout()\n",
    "plt.show()"
   ]
  },
  {
   "cell_type": "code",
   "execution_count": null,
   "metadata": {},
   "outputs": [],
   "source": [
    "import pandas as pd\n",
    "import matplotlib.pyplot as plt\n",
    "\n",
    "# List of nutrient columns (all columns except the first 4 which are descriptive)\n",
    "nutrient_cols = food_df.columns[4:]\n",
    "# Exclude water from nutrient columns\n",
    "nutrient_cols = [col for col in nutrient_cols if col != 'water']\n",
    "\n",
    "# Create a dictionary to store nutrient-subcategory pairs\n",
    "bigram_counts = {}\n",
    "\n",
    "# Iterate through each row and count nutrient-subcategory associations\n",
    "for _, row in preprocessed_food_df.iterrows():\n",
    "    subcat = row['sub_category']\n",
    "    for nutrient in nutrient_cols:\n",
    "        if row[nutrient] > 0:  # Only count if the nutrient is present\n",
    "            bigram = f\"{nutrient} - {subcat}\"\n",
    "            bigram_counts[bigram] = bigram_counts.get(bigram, 0) + row[nutrient]\n",
    "\n",
    "print(bigram_counts)\n",
    "\n",
    "# Convert to DataFrame and sort by count\n",
    "bigram_df = pd.DataFrame.from_dict(bigram_counts, orient='index', columns=['count'])\n",
    "bigram_df = bigram_df.sort_values('count', ascending=False)\n",
    "\n",
    "# Plot the top 10 bigrams\n",
    "plt.figure(figsize=(12, 8))\n",
    "top_bigrams = bigram_df.head(10)\n",
    "top_bigrams.plot(kind='barh', color='#ffa083')\n",
    "# plt.title('Top 10 Nutrient-Subcategory Associations', fontsize=18, fontweight='bold')\n",
    "plt.xlabel('Total Nutrient Amount (Normalized)', fontsize=14, fontweight='bold')\n",
    "plt.ylabel('Nutrient - Subcategory Pair', fontsize=14, fontweight='bold')\n",
    "plt.gca().invert_yaxis()  # Show highest at top\n",
    "plt.gca().set_facecolor('#fafafa') \n",
    "plt.tight_layout()\n",
    "plt.show()\n"
   ]
  },
  {
   "cell_type": "code",
   "execution_count": null,
   "metadata": {},
   "outputs": [],
   "source": [
    "# Import required libraries\n",
    "import pandas as pd\n",
    "import numpy as np\n",
    "import matplotlib.pyplot as plt\n",
    "import seaborn as sns\n",
    "from ast import literal_eval\n",
    "from umap import UMAP\n",
    "import os\n",
    "\n",
    "# Set the correct working directory\n",
    "os.chdir('/Users/aartijangid/aarti-data/culinary_compass')\n",
    "\n",
    "# Load the data\n",
    "data = pd.read_csv('data/embeddings/recipes.csv')\n",
    "\n",
    "# Convert string representations of lists to actual lists\n",
    "data['IngredientEmbedding'] = data['IngredientEmbedding'].apply(literal_eval)\n",
    "\n",
    "# Get top 15 categories\n",
    "top_15_categories = data['RecipeCategory'].value_counts().nlargest(15).index\n",
    "\n",
    "# Filter data for top 15 categories\n",
    "data_filtered = data[data['RecipeCategory'].isin(top_15_categories)]\n",
    "\n",
    "# Extract embeddings\n",
    "embeddings = np.array(data_filtered['IngredientEmbedding'].tolist())\n",
    "\n",
    "# Apply UMAP for dimensionality reduction\n",
    "umap = UMAP(n_components=2, random_state=42)\n",
    "embeddings_2d = umap.fit_transform(embeddings)\n",
    "\n",
    "# Add the 2D coordinates to the dataframe\n",
    "data_filtered['x'] = embeddings_2d[:, 0]\n",
    "data_filtered['y'] = embeddings_2d[:, 1]\n",
    "\n",
    "# Create the visualization\n",
    "plt.figure(figsize=(15, 10))\n",
    "sns.scatterplot(\n",
    "    x='x', y='y',\n",
    "    hue='RecipeCategory',\n",
    "    palette='tab20',\n",
    "    data=data_filtered,\n",
    "    s=100,\n",
    "    alpha=0.8\n",
    ")\n",
    "\n",
    "plt.title('Recipe Embeddings Visualization (UMAP) - Top 15 Categories')\n",
    "plt.xlabel('UMAP Dimension 1')\n",
    "plt.ylabel('UMAP Dimension 2')\n",
    "plt.legend(bbox_to_anchor=(1.05, 1), loc='upper left')\n",
    "plt.tight_layout()\n",
    "plt.show()\n",
    "\n",
    "# Print the top 15 categories and their counts\n",
    "print(\"\\nTop 15 Recipe Categories:\")\n",
    "print(data_filtered['RecipeCategory'].value_counts())"
   ]
  }
 ],
 "metadata": {
  "kernelspec": {
   "display_name": ".venv",
   "language": "python",
   "name": "python3"
  },
  "language_info": {
   "codemirror_mode": {
    "name": "ipython",
    "version": 3
   },
   "file_extension": ".py",
   "mimetype": "text/x-python",
   "name": "python",
   "nbconvert_exporter": "python",
   "pygments_lexer": "ipython3",
   "version": "3.11.3"
  }
 },
 "nbformat": 4,
 "nbformat_minor": 2
}
